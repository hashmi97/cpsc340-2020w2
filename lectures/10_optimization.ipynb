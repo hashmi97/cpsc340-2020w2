{
 "cells": [
  {
   "cell_type": "markdown",
   "metadata": {},
   "source": [
    "## CPSC 340 Lecture 10: intro to optimization\n",
    "\n",
    "This notebook is for the in-class activities. It assumes you have already watched the [associated video](https://www.youtube.com/watch?v=bzj1L997uT8&list=PLWmXHcz_53Q02ZLeAxigki1JZFfCO6M-b&index=9)."
   ]
  },
  {
   "cell_type": "markdown",
   "metadata": {},
   "source": [
    "<font color='red'>**REMINDER TO START RECORDING**</font>\n",
    "\n",
    "Also, reminder to enable screen sharing for Participants."
   ]
  },
  {
   "cell_type": "markdown",
   "metadata": {},
   "source": [
    "## Today's pre-class songs\n",
    "\n"
   ]
  },
  {
   "cell_type": "markdown",
   "metadata": {},
   "source": [
    "## Admin\n",
    "\n",
    "\n",
    "- Countdown to reading week: 6 more classes\n"
   ]
  },
  {
   "cell_type": "markdown",
   "metadata": {},
   "source": [
    "## Video chapters\n",
    "\n",
    "- optimization introduction\n",
    "- terminology\n",
    "- dimensionality\n",
    "- continuous vs. discrete\n",
    "- optimization in ML\n",
    "- domains\n",
    "- constraints\n",
    "- convex functions\n",
    "- solving optimization problems\n",
    "- min/max ambiguities\n",
    "- scipy optimize demo"
   ]
  },
  {
   "cell_type": "markdown",
   "metadata": {},
   "source": [
    "# TODO: convex functions"
   ]
  },
  {
   "cell_type": "markdown",
   "metadata": {},
   "source": [
    "## True/False questions\n",
    "\n",
    "For these questions, we can assume the minimum of $f(x)$ exists; that is, we'll ignore cases like $f(x)=-1/x^2$ which has no minimum because $f(x)$ tends to $-\\infty$ as $x\\rightarrow 0$.\n",
    "\n",
    "1. The result of $\\min_x f(x)$ **is** a unique value, but the result of $\\arg \\min_x f(x)$ may not be a unique value.\n",
    "2. The results of $\\min_x f(x)$ and $\\min_x 10f(x)$ are the same, but the results of $\\arg \\min_x f(x)$ and $\\arg \\min_x 10f(x)$ may be different. \n",
    "3. $\\max(f(x), -f(x))=|f(x)|$.\n",
    "4. "
   ]
  },
  {
   "cell_type": "markdown",
   "metadata": {},
   "source": [
    "## Discussion questions\n",
    "\n",
    "What is $\\min_y \\max_x $"
   ]
  },
  {
   "cell_type": "markdown",
   "metadata": {},
   "source": [
    "For unconstrained minimization of a smooth function, if someone told you "
   ]
  }
 ],
 "metadata": {
  "kernelspec": {
   "display_name": "Python 3",
   "language": "python",
   "name": "python3"
  },
  "language_info": {
   "codemirror_mode": {
    "name": "ipython",
    "version": 3
   },
   "file_extension": ".py",
   "mimetype": "text/x-python",
   "name": "python",
   "nbconvert_exporter": "python",
   "pygments_lexer": "ipython3",
   "version": "3.9.1"
  }
 },
 "nbformat": 4,
 "nbformat_minor": 4
}
