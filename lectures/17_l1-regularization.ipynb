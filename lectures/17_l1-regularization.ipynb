{
 "cells": [
  {
   "cell_type": "markdown",
   "metadata": {},
   "source": [
    "## CPSC 340 Lecture 17: L1 regularization\n",
    "\n",
    "This notebook is for the in-class activities. It assumes you have already watched the [associated video](https://www.youtube.com/watch?v=tsWfLJVzp-g&list=PLWmXHcz_53Q02ZLeAxigki1JZFfCO6M-b&index=16)."
   ]
  },
  {
   "cell_type": "markdown",
   "metadata": {},
   "source": [
    "<font color='red'>**REMINDER TO START RECORDING**</font>\n",
    "\n",
    "Also, reminder to enable screen sharing for Participants."
   ]
  },
  {
   "cell_type": "markdown",
   "metadata": {},
   "source": [
    "## Pre-class music\n",
    "\n"
   ]
  },
  {
   "cell_type": "markdown",
   "metadata": {},
   "source": [
    "1. Hello, Anxiety by Phum Viphurit\n",
    "2. Friends by Hyper Potions"
   ]
  },
  {
   "cell_type": "markdown",
   "metadata": {},
   "source": [
    "## Admin\n",
    "\n",
    "- a4 due March 10"
   ]
  },
  {
   "cell_type": "markdown",
   "metadata": {},
   "source": [
    "## Midterm info\n",
    "\n",
    "- In class on Friday, Feb 26\n",
    "- On Canvas, 50 minutes in the window of 4:00-4:55pm\n",
    "- Open book\n",
    "- No communication with others\n",
    "- No invigilation - *you do not need to join the Zoom meeting*\n",
    "- Mix of multiple choice and short answer.\n",
    "- Any clarifications or announcements will be made in a dedicated Ed thread: https://edstem.org/us/courses/3226/discussion/271610\n",
    "- Covers lectures 2-14, assignments 1-3\n",
    "- Last Friday's material, and today/Wed not covered (but very important!!)\n",
    "- Old exams available on Canvas under Files\n",
    "  - Note that the timing (and thus coverage) of the midterm varies from year to year"
   ]
  },
  {
   "cell_type": "markdown",
   "metadata": {},
   "source": [
    "## Academic integrity discussion\n",
    "\n",
    "-\n"
   ]
  },
  {
   "cell_type": "markdown",
   "metadata": {},
   "source": [
    "## Video chapters\n",
    "\n"
   ]
  },
  {
   "cell_type": "code",
   "execution_count": null,
   "metadata": {},
   "outputs": [],
   "source": []
  }
 ],
 "metadata": {
  "kernelspec": {
   "display_name": "Python 3",
   "language": "python",
   "name": "python3"
  },
  "language_info": {
   "codemirror_mode": {
    "name": "ipython",
    "version": 3
   },
   "file_extension": ".py",
   "mimetype": "text/x-python",
   "name": "python",
   "nbconvert_exporter": "python",
   "pygments_lexer": "ipython3",
   "version": "3.9.1"
  }
 },
 "nbformat": 4,
 "nbformat_minor": 4
}
