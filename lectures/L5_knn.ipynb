{
 "cells": [
  {
   "cell_type": "markdown",
   "metadata": {},
   "source": [
    "## CPSC 340 Lecture 5: Fundaments of Learning continued + KNN\n",
    "\n",
    "This notebook is for the in-class activities. It assumes you have already watched the [associated video](https://www.youtube.com/watch?v=JRF6oELLn0M&list=PLWmXHcz_53Q02ZLeAxigki1JZFfCO6M-b&index=4)."
   ]
  },
  {
   "cell_type": "markdown",
   "metadata": {},
   "source": [
    "<font color='red'>**REMINDER TO START RECORDING**</font>"
   ]
  },
  {
   "cell_type": "markdown",
   "metadata": {},
   "source": [
    "## Admin\n",
    "\n",
    "- a1 due tonight\n",
    "- Tutorials started this week\n",
    "- Office hours started last week\n",
    "- Q&A on [Ed](https://edstem.org/us/courses/3226/)\n",
    "- **Bonus slides** now posted on the course schedule.\n",
    "  - These are 100% optional and just if you're interested."
   ]
  },
  {
   "cell_type": "markdown",
   "metadata": {},
   "source": [
    "## Video chapters\n",
    "\n",
    "- fundamentals recap\n",
    "- optimization bias\n",
    "- cross-validation\n",
    "- no free lunch theorem\n",
    "- k-nearest neighbours\n",
    "- curse of dimensionality\n",
    "- k-NN implementation \n",
    "- parametric vs. non-parametric\n",
    "- norms\n",
    "- decision boundary plots"
   ]
  },
  {
   "cell_type": "code",
   "execution_count": null,
   "metadata": {},
   "outputs": [],
   "source": []
  }
 ],
 "metadata": {
  "kernelspec": {
   "display_name": "Python 3",
   "language": "python",
   "name": "python3"
  },
  "language_info": {
   "codemirror_mode": {
    "name": "ipython",
    "version": 3
   },
   "file_extension": ".py",
   "mimetype": "text/x-python",
   "name": "python",
   "nbconvert_exporter": "python",
   "pygments_lexer": "ipython3",
   "version": "3.9.1"
  }
 },
 "nbformat": 4,
 "nbformat_minor": 4
}
