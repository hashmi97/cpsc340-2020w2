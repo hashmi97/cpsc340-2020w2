{
 "cells": [
  {
   "cell_type": "markdown",
   "metadata": {},
   "source": [
    "## CPSC 340 Lecture 13: nonlinear regression\n",
    "\n",
    "This notebook is for the in-class activities. It assumes you have already watched the [associated video](https://www.youtube.com/watch?v=Z1O7BGDq2ik&list=PLWmXHcz_53Q02ZLeAxigki1JZFfCO6M-b&index=13)."
   ]
  },
  {
   "cell_type": "markdown",
   "metadata": {},
   "source": [
    "<font color='red'>**REMINDER TO START RECORDING**</font>\n",
    "\n",
    "Also, reminder to enable screen sharing for Participants."
   ]
  },
  {
   "cell_type": "markdown",
   "metadata": {},
   "source": [
    "## Pre-class music\n",
    "\n",
    "1. Crazy Dream by Tom Misch, Loyle Carner\n",
    "2. Big Iron by Marty Robbins"
   ]
  },
  {
   "cell_type": "markdown",
   "metadata": {},
   "source": [
    "## Admin\n",
    "\n",
    "- a3 in progress\n",
    "- We didn't have much time left to talk about the data space vs. parameter space last time - please review if needed.\n",
    "- A lot of content in today's lecture as well 😅\n",
    "- Countdown to reading week: 2 more classes"
   ]
  },
  {
   "cell_type": "markdown",
   "metadata": {},
   "source": [
    "## Video chapters\n",
    "\n",
    "- smooth approximations \n",
    "- loss functions recap\n",
    "- nonlinear regression\n",
    "- polynomial features\n",
    "- robust regression demo\n",
    "- polynomial regression demo\n",
    "- other non-linear transforms\n",
    "- RBF intro\n",
    "- RBF demo\n",
    "- RBF details"
   ]
  },
  {
   "cell_type": "markdown",
   "metadata": {},
   "source": [
    "## Old exam questions"
   ]
  },
  {
   "cell_type": "markdown",
   "metadata": {},
   "source": [
    "#### From 2018W1 midterm\n",
    "\n",
    "Consider the loss function $f(r) = \\sum^n_{i=1} \\max\\{r_i,−2r_i\\}$. Write down a version of this loss\n",
    "function that is smoothed with the log-sum-exp."
   ]
  },
  {
   "cell_type": "code",
   "execution_count": null,
   "metadata": {},
   "outputs": [],
   "source": []
  },
  {
   "cell_type": "markdown",
   "metadata": {},
   "source": [
    "When we do regression with a polynomial basis, how does the degree of the polynomial p affect the two parts of the fundamental trade-off?"
   ]
  },
  {
   "cell_type": "code",
   "execution_count": null,
   "metadata": {},
   "outputs": [],
   "source": []
  },
  {
   "cell_type": "markdown",
   "metadata": {},
   "source": [
    "![](img/L14/polynomial.png)"
   ]
  },
  {
   "cell_type": "markdown",
   "metadata": {},
   "source": [
    "#### From 2018W1 final\n",
    "\n",
    "For linear regression with $d = 1$ using a polynomial basis of degree $p$,  how many trainable parameters does the model have? ."
   ]
  },
  {
   "cell_type": "code",
   "execution_count": null,
   "metadata": {},
   "outputs": [],
   "source": []
  },
  {
   "cell_type": "markdown",
   "metadata": {},
   "source": [
    "## Student questions\n",
    "\n",
    "https://edstem.org/us/courses/3226/discussion/245940"
   ]
  },
  {
   "cell_type": "code",
   "execution_count": null,
   "metadata": {},
   "outputs": [],
   "source": []
  }
 ],
 "metadata": {
  "kernelspec": {
   "display_name": "Python 3",
   "language": "python",
   "name": "python3"
  },
  "language_info": {
   "codemirror_mode": {
    "name": "ipython",
    "version": 3
   },
   "file_extension": ".py",
   "mimetype": "text/x-python",
   "name": "python",
   "nbconvert_exporter": "python",
   "pygments_lexer": "ipython3",
   "version": "3.8.5"
  }
 },
 "nbformat": 4,
 "nbformat_minor": 4
}
