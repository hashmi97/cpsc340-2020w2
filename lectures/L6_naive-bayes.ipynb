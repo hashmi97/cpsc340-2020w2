{
 "cells": [
  {
   "cell_type": "markdown",
   "metadata": {},
   "source": [
    "## CPSC 340 Lecture 6: Naive Bayes\n",
    "\n",
    "This notebook is for the in-class activities. It assumes you have already watched the [associated video](https://www.youtube.com/watch?v=sUtPiyMnkIU&list=PLWmXHcz_53Q02ZLeAxigki1JZFfCO6M-b&index=5)."
   ]
  },
  {
   "cell_type": "markdown",
   "metadata": {},
   "source": [
    "<font color='red'>**REMINDER TO START RECORDING**</font>"
   ]
  },
  {
   "cell_type": "markdown",
   "metadata": {},
   "source": [
    "## Admin\n",
    "\n",
    "- a2 posted\n",
    "- Last class I forgot to mention I updated the Lecture 4 document with some new examples\n",
    "- Office hours queue: https://queue.students.cs.ubc.ca/course/17/"
   ]
  },
  {
   "cell_type": "markdown",
   "metadata": {},
   "source": [
    "## Survey\n",
    "\n",
    "https://ubc.ca1.qualtrics.com/jfe/form/SV_6YkzonFPmnDsD30"
   ]
  },
  {
   "cell_type": "markdown",
   "metadata": {},
   "source": [
    "## Video chapters\n",
    "\n",
    "- k-NN recap\n",
    "- digit classification\n",
    "- data augmentation\n",
    "- bag of words\n",
    "- notation review\n",
    "- probabilistic classifiers\n",
    "- Bayesian classification\n",
    "- naive Bayes \n",
    "- Laplace smoothing\n",
    "- decision theory\n",
    "- decision trees vs. naive Bayes"
   ]
  }
 ],
 "metadata": {
  "kernelspec": {
   "display_name": "Python 3",
   "language": "python",
   "name": "python3"
  },
  "language_info": {
   "codemirror_mode": {
    "name": "ipython",
    "version": 3
   },
   "file_extension": ".py",
   "mimetype": "text/x-python",
   "name": "python",
   "nbconvert_exporter": "python",
   "pygments_lexer": "ipython3",
   "version": "3.9.1"
  }
 },
 "nbformat": 4,
 "nbformat_minor": 4
}
